{
  "nbformat": 4,
  "nbformat_minor": 0,
  "metadata": {
    "anaconda-cloud": {},
    "colab": {
      "name": "HW1_Solutions.ipynb",
      "provenance": [],
      "collapsed_sections": []
    },
    "kernelspec": {
      "display_name": "Python 3",
      "language": "python",
      "name": "python3"
    },
    "language_info": {
      "codemirror_mode": {
        "name": "ipython",
        "version": 3
      },
      "file_extension": ".py",
      "mimetype": "text/x-python",
      "name": "python",
      "nbconvert_exporter": "python",
      "pygments_lexer": "ipython3",
      "version": "3.8.2"
    }
  },
  "cells": [
    {
      "cell_type": "markdown",
      "metadata": {
        "id": "7IbwLOEjT4I4"
      },
      "source": [
        "<h4 align=\"right\">by Ruizhao Zhu. Modified from the version by Ali Siahkamari<br> </h4>\n",
        "\n",
        "# Problem Set 1 \n",
        "\n"
      ]
    },
    {
      "cell_type": "markdown",
      "metadata": {
        "id": "jpjvDX8GT4I_"
      },
      "source": [
        "## Preamble\n",
        "\n",
        "To run and solve this assignment, one must have a working IPython Notebook installation. The  easiest way to set it up is to open the assignment by [Google Colab](https://colab.research.google.com/). It is an online platform which already has the environment set up for this assignment. If you want to run your assignment locally, the easiest way to set it up for both Windows and Linux is to install [Anaconda](https://docs.anaconda.com/anaconda/install/). Then you can create an [environment] (https://docs.conda.io/projects/conda/en/latest/user-guide/tasks/manage-environments.html) and install [Pytorch](https://pytorch.org/). Pytorch is a deep learning framework we will use across the course. We will only use Pytorch this time for loading some data. Then save this file ([`pset1.ipynb`](https://gist.githubusercontent.com/MInner/eb6330a655a5c37b82e15d1c84fd4cd0/raw/)) to your computer, run Anaconda and choose this file in Anaconda's file explorer. Use `Python 3` version. Below statements assume that you have already followed these instructions. If you are new to Python or its scientific library, Numpy, there are some nice tutorials [here](https://www.learnpython.org/) and [here](http://www.scipy-lectures.org/).\n",
        "\n",
        "To run code in a cell or to render [Markdown](https://en.wikipedia.org/wiki/Markdown)+[LaTeX](https://en.wikipedia.org/wiki/LaTeX) press `Ctr+Enter` or `[>|]`(like \"play\") button above. To edit any code or text cell [double]click on its content. To change cell type, choose \"Markdown\" or \"Code\" in the drop-down menu above.\n",
        "\n",
        "We highly encourage students to put down their derivations into corresponding cells below. However, if one does not know LaTeX (and would find it too hard to learn it by looking at examples listed below between \\$..\\$), he or she might pass it in pen-and-paper format, however grading of these submissions might be delayed.\n",
        "\n",
        "Put your solution into boxes marked with **`[double click here to add a solution]`** and press Ctr+Enter to render text. [Double]click on a cell to edit or to see its source code. You can add cells via **`+`** sign at the top left corner.\n",
        "\n",
        "Submission instructions: please upload your completed solution file to Gradescope by the due date (see Schedule). If you have pen-and-paper answers, please hand them in in class on the same day. \n",
        "\n",
        "`Vector` stands for `column vector` below. Show all steps when proving statements."
      ]
    },
    {
      "cell_type": "markdown",
      "metadata": {
        "id": "rZ5Ph9quT4JF"
      },
      "source": [
        "### Problem 1: Review of Probability and Statistics\n",
        "\n",
        "**Q1.1**: $X$ and $Y$ are random variables. The expectaion of $X$ is  $E(X)$ and the variance of $X$ is $Var(X)$.  The expectaion of $Y$ is  $E(Y)$ and the variance of $X$ is $Var(Y)$. Prove the following:\n",
        "\n",
        "(a) $E(X+Y) = E(X)+E(Y)$\n",
        "\n",
        "(b) $Var(X+Y) = Var(X) + Var(Y) + 2Cov(X,Y)$, where $Cov(X,Y)$ is covariance of X and Y.\n"
      ]
    },
    {
      "cell_type": "markdown",
      "metadata": {
        "id": "chIChbwfIv9f"
      },
      "source": [
        "**Solution Q1.1**\n",
        "(a)\n",
        "\n",
        "$\\begin{aligned} E(X+Y) &=\\sum_{x} \\sum_{y}(x+y) P_{X Y}(x, y) \\\\ &=\\sum_{x} \\sum_{y} x P_{X Y}(x, y)+\\sum_{y} \\sum_{x} y P_{X Y}(x, y) \\\\ &=\\sum_{x} x P_{X}(x)+y P_{Y}(y) \\\\ &=E(X)+E(Y) \\end{aligned}$\n",
        "\n",
        "Or we can write it as integrals for continuous random variables.\n",
        "\n",
        "$\\begin{aligned}\n",
        "E(X+Y) &=\\int_{x} \\int_{y}(x+y) f_{X Y}(x, y) \\mathrm{d} x \\\\\n",
        "&=\\int_{x} \\int_{y} x f_{X Y}(x, y) \\mathrm{d} y \\mathrm{d} x+\\int_{y} \\int_{x} y f_{X Y}(x, y) \\mathrm{d} x \\mathrm{d} y \\\\\n",
        "&=\\int_{x} x f_{X}(x) \\mathrm{d} x+\\int_{y} y f_{Y}(y) \\mathrm{d} y \\\\\n",
        "&=E(X)+E(Y)\n",
        "\\end{aligned}$"
      ]
    },
    {
      "cell_type": "markdown",
      "metadata": {
        "id": "BXAGfxeiIv9h"
      },
      "source": [
        "**Solution Q1.1 (b)**\n",
        "\n",
        "$\\operatorname{Var}(X+Y)$\n",
        "$=\\sum_{x} \\sum_{y}(x+y)^{2} P_{X Y}(x, y)-(E(X+Y))^{2}$\n",
        "$=\\sum_{x} \\sum_{y} x^{2} P_{X Y}(x, y)+\\sum_{x} \\sum_{y} 2 x y P_{X Y}(x, y)+\\sum_{y} \\sum_{x} y^{2} P_{X Y}(x, y)-(E(X))^{2}-2 E(X) E(Y)-(E(Y))^{2}$\n",
        "$=\\sum_{x} x^{2} P_{X}(x)-(E(X))^{2}+\\sum_{y} y^{2} P_{Y}(y)-(E(Y))^{2}+\\sum_{x} \\sum_{y} 2 x y P_{X Y}(x, y)-2 E(X) E(Y)$\n",
        "$=E\\left(X^{2}\\right)-(E(X))^{2}+E\\left(Y^{2}\\right)-(E(Y))^{2}+2(E(X Y)-E(X) E(Y))$\n",
        "$=\\operatorname{Var}(X)+\\operatorname{Var}(Y)+2 \\operatorname{Cov}(X, Y)$\n",
        "\n",
        "Or we can write it as integrals for continuous random variables.\n",
        "\n",
        "$\\begin{array}{l}\n",
        "\\operatorname{Var}(X+Y) \\\\\n",
        "=\\int_{x} \\int_{y}(x+y)^{2} f_{X Y}(x, y)-(E(X+Y))^{2} \\\\\n",
        "=\\int_{x} \\int_{y} x^{2} f_{X Y}(x, y)+\\int_{x} \\int_{y} 2 x y f_{X Y}(x, y)+\\int_{y} \\int_{x} y^{2} f_{X Y}(x, y)-(E(X))^{2}-2 E(X) E(Y)-(E(Y))^{2} \\\\\n",
        "=\\int_{x} x^{2} f_{X}(x)-(E(X))^{2}+\\int_{y} y^{2} f_{Y}(y)-(E(Y))^{2}+\\int_{x} \\int_{y} 2 x y f_{X Y}(x, y)-2 E(X) E(Y) \\\\\n",
        "=E\\left(X^{2}\\right)-(E(X))^{2}+E\\left(Y^{2}\\right)-(E(Y))^{2}+2(E(X Y)-E(X) E(Y)) \\\\\n",
        "=\\operatorname{Var}(X)+\\operatorname{Var}(Y)+2 \\operatorname{Cov}(X, Y)\n",
        "\\end{array}$"
      ]
    },
    {
      "cell_type": "markdown",
      "metadata": {
        "id": "ERu4tkxOIv9i"
      },
      "source": [
        "**Q1.2** Suppose $X_1,\\dots,X_N$ have mean $\\mu$ and variance $\\sigma^2$ and are independent. Let $A= (X_1 + .. + X_N)/N$ be the empirical mean.  Show that with probability at least 0.99, $|A-\\mu| < 10\\sigma\\sqrt{N}$"
      ]
    },
    {
      "cell_type": "markdown",
      "metadata": {
        "id": "p_ZKL_5XIv9k"
      },
      "source": [
        "**Solution Q1.2**\n",
        "\n",
        "Since independent, we have $E(A) = \\mu$ and $Var(A) =  \\sigma^2/N$. Applying Chebyshev's inequality \n",
        "$\\operatorname{Pr}(|X-\\mu| \\geq 10 \\sigma/\\sqrt{N}) \\leq \\frac{1}{10^{2}}$.\n",
        "Then we have $Pr(|A-\\mu| < 10\\sigma/\\sqrt{N}) \\geq 0.99$"
      ]
    },
    {
      "cell_type": "markdown",
      "metadata": {
        "id": "zdDnhTezIv9p"
      },
      "source": [
        "**Q1.3**:Assume that we are given $n$ iid samples $(x_1, ..., x_n)$ from each $P(x \\ | \\ \\theta)$ given below. Compute the maximum likelihood estimates (MLEs) for the parameter $\\theta$ $(\\alpha,  \\beta)$ of the given distributions. \n",
        "\n",
        "\n",
        "(a) $P(x \\ | \\ \\theta) = \\frac{2 x}{\\theta^2} e^{\\frac{-x^2}{\\theta^2}}$ for $x \\geq 0$\n",
        "\n",
        "(b) $P(x \\ | \\ \\theta) = \\frac{1}{1-\\theta}$ for $ \\theta \\leq x \\leq 1$ \n",
        "\n",
        "(c): $P(x \\ | \\ \\alpha, \\beta) \\propto  \\frac{1}{x^{\\alpha+1}}$ for $ x \\geq \\beta$ \n",
        "\n",
        "(If $x$ is not in the support of the distribution defined by inequalities, the probability of it is $0$.)\n",
        "\n",
        "**Hint for Q1.3(c):** first calculate the normalizing constant by making sure the density integrates to 1."
      ]
    },
    {
      "cell_type": "markdown",
      "metadata": {
        "id": "B1BoB_qyT4JJ"
      },
      "source": [
        "\n",
        "**Solution Q1.3(a):**\n",
        "\n",
        "We could either find the maximum of the Likelihood function or it's logarithm. This is true since logarithm is a monotonically increasing function.\n",
        "\n",
        "\\begin{align*}\n",
        "\\theta_{ML} &= \\arg\\max_\\theta(\\mathcal{L}(\\theta))= \\arg\\max_\\theta(\\log P(x_1, \\dots, x_n | \\theta))\\\\\n",
        "&= \\arg \\max_{\\theta}\\sum_{i=1}^n \\log\\left(\\frac{2x_i}{\\theta^2}\\exp(-\\frac{x_i^2}{\\theta^2}) \\right)\\\\\n",
        "&= \\arg \\max_{\\theta}\\sum_{i=1}^n \\left(\\log2 + \\log x_i - 2 \\log\\theta + \\log\\exp\\left(-\\frac{x_i^2}{\\theta^2}\\right)\\right)\\\\\n",
        "&= \\arg \\max_{\\theta}\\left(\\sum_{i=1}^n \\log x_i -2n\\log\\theta - \\frac{1}{\\theta^2}\\sum_{i=1}^{n}x_i^2 \\right)\n",
        "\\end{align*}\n",
        "$ \\Rightarrow $ we can solve for the maximum by finding the point at which gradient of our likelihood function is zero: \n",
        "\n",
        "\\begin{align*}\n",
        "  \\frac{\\partial }{\\partial \\theta} \\mathcal{L}(\\theta) &= 0\\\\\n",
        "  \\frac{1}{\\theta_{ML}}\\left(-n+\\frac{1}{\\theta^2_{ML}}\\sum_{i=1}^nx_i\\right) &= 0\n",
        "\\end{align*}\n",
        "\n",
        "$$\\Rightarrow \\theta_{ML} = \\sqrt {\\frac{\\sum x_i^2 }{n}} $$\n",
        "\n",
        "**Solution Q1.3(b):**\n",
        "\n",
        "First, note, that if $\\theta$ is larger than some $x_j$ then $P(x_j\\mid \\theta)=0$ and therefore $\\mathcal{L}(\\theta)=0$.\n",
        "\n",
        "Now, let's look at the likelihood.\n",
        "$$ \\mathcal{L}(\\theta) = P(x_1, \\dots, x_n\\mid\\theta) = \\prod_{i=1}^n P(x_i\\mid\\theta) = \\left(\\frac{1}{1-\\theta}\\right)^n $$\n",
        "$$\\frac{\\partial}{\\partial \\theta}\\mathcal{L}(\\theta) = \\frac{n}{(1-\\theta)^{n+1}} > 0 $$\n",
        "\n",
        "From the derivative, we can see that likelihood is monotonically increasing with respect to $\\theta$. Combined with our observation that $\\theta>\\min\\{x_i\\}$ results in $0$ likelihood,\n",
        "$$\n",
        "  \\theta_{ML} = \\min_{i=1}^n\\{x_i\\}\n",
        "$$\n",
        "\n",
        "**Solution Q1.3(c):**\n",
        "\n",
        "First, we need to calculate the normalizing constant $C$ of the pdf.\n",
        "\\begin{align*}\n",
        "  P(x | \\alpha, \\beta) &= C \\frac{1}{x^{\\alpha+1}}\\\\\n",
        "  \\int_{\\beta}^{\\infty} P(x\\mid\\alpha, \\beta) &= \\frac{C}{ \\alpha  \\beta^{\\alpha}} = 1\\\\\n",
        "  C &= \\alpha  \\beta^{\\alpha}\n",
        "\\end{align*}\n",
        "\n",
        "Then,\n",
        "\\begin{align*}\n",
        "\\mathcal{L}(\\theta)=P(x_1,x_2 ... x_n \\ | \\ \\alpha, \\beta) &= \\Pi_{i=1}^n\\frac{\\alpha \\beta^{\\alpha}}{x^{\\alpha+1}}\\\\\n",
        "\\log(\\mathcal{L}(\\theta)) &= \\sum_{i=1}^n\\log\\left(\\frac{\\alpha \\beta^{\\alpha}}{x_i^{\\alpha+1}}\\right)\\\\\n",
        "&= n\\log\\alpha + \\alpha n \\log\\beta - (\\alpha + 1)\\sum_{i=1}^n\\log(x_i)\\\\\n",
        "\\frac{\\partial\\mathcal{L}(\\theta)}{\\partial\\beta} &= \\frac{\\alpha n}{\\beta}\\\\\n",
        "\\beta_{ML} &= \\min_{i=1}^n\\{x_i\\}\\\\\n",
        "\\frac{\\partial\\mathcal{L}(\\theta)}{\\partial\\alpha} &= \\frac{n}{\\alpha} + n\\log(\\beta) - \\sum_{i=1}^n\\log(x_i)\\\\\n",
        "\\alpha_{ML} &= \\frac{n}{ \\sum_{i=1}^n\\log x_i - n\\log\\beta_{ML}}\n",
        "\\end{align*}\n"
      ]
    },
    {
      "cell_type": "markdown",
      "metadata": {
        "id": "bI8M-uRuIv9t"
      },
      "source": [
        "**Q1.4** (Naive Bayes Maximum Likelihood) Consider binary dataset $S$ with observations in the form $\\left.\\left\\{\\left(x_{j}^{1}, \\ldots, x_{j}^{n}\\right), y_{j}\\right)\\right\\}$. Each data $\\mathbf{x_j}$ is an n-dimensional vector. Define $c(y)$ as a function that counts the number of observations such that the label is $y$. $S$ is the set of all the training data.\n",
        "$$\n",
        "c(y)=\\sum_{\\left(x_{j}, y_{j}\\right) \\in S}\\left[y_{j}=y\\right]\n",
        "$$\n",
        "Define $c(i, y)$ as a function that counts the number of observations such that the label is $y$ and $x^{i}=1$\n",
        "$$\n",
        "c(i, y)=\\sum_{\\left(x_{j}, y_{j}\\right) \\in S}\\left[y_{j}=y, x_{j}^{i}=1\\right]\n",
        "$$\n",
        "Define $b$ as $P(Y=1),$ and $b^{i y}$ as $P\\left(X^{i}=1 \\mid Y=y\\right) .$ Prove that the following estimators are MLE for these parameters:\n",
        "$$\n",
        "\\widehat{b}_{M L E}=\\frac{c(1)}{|S|} \\quad \\text { and } \\quad \\widehat{b^{i y}}_{M L E}=\\frac{c(i, y)}{c(y)}\n",
        "$$"
      ]
    },
    {
      "cell_type": "markdown",
      "metadata": {
        "id": "-L86HfvtIv9u"
      },
      "source": [
        "**Solution 1.4**\n",
        "Given the training set $S$, we can write the log-likelihood function as follows:\n",
        "\\begin{align*}\n",
        "L &= \\sum_{|S|} \\log P(x_j,y_j)\\\\\n",
        "&= \\sum_{|S|} \\log \\big( P(y_j) \\prod_{i = 1}^n P(x^i_j|y_j)  \\big) \\\\\n",
        "&=  \\sum_{|S|} \\log P(y_j) + \\sum_{|S|}\\log \\big( \\prod_{i = 1}^n P(x^i_j|y_j) \\big)\\\\\n",
        "&= \\sum_{|S|} \\log P(y_j) + \\sum_{|S|}\\sum_{i = 1}^n \\log P(x^i_j|y_j)\\\\\n",
        "&= c(1)\\log\\big(P(Y=1)\\big) + c(0)\\log\\big(P(Y=0)\\big) + \\sum_{y = 0,1}\\bigg( c(i,y) \\log P(X^i = 1|Y = y) + (c(y)-c(i,y)) \\log P(X^i = 0|Y = y)\\bigg)\\\\\n",
        "&= c(1)\\log\\big(P(Y=1)\\big) + (|S| - c(1))\\log\\big(1-P(Y=1)\\big) + \\sum_{y = 0,1}\\bigg( c(i,y)\\log b^{i y} + (c(y)-c(i,y)) \\log (1-b^{i y})\\bigg) \\\\\n",
        "&= c(1)\\log\\big(b\\big) + (|S| - c(1))\\log\\big(1-b\\big) + \\sum_{y = 0,1}\\bigg( c(i,y)\\log b^{i y} + (c(y)-c(i,y))\\log (1-b^{i y})\\bigg)\n",
        "\\end{align*}\n",
        "\n",
        "Concave funtion wrt b,\n",
        "\\begin{align*}\n",
        "\\frac{\\partial L}{\\partial b} = \\frac{c(1)}{b} - \\frac{|S| - c(1)}{1-b} = 0\\\\\n",
        "\\Rightarrow \\widehat{b}_{M L E}=\\frac{c(1)}{|S|} \n",
        "\\end{align*}\n",
        "Concave cunction wrt $b^{iy}$, for either $y=0$ or $y=1$, we have the as follows:\n",
        "\\begin{align*}\n",
        "\\frac{\\partial L}{\\partial b^{iy}} =  \\frac{c(i,y)}{b^{iy}} - \\frac{c(y) - c(i,y)}{1-b^{iy}} = 0\\\\\n",
        "\\Rightarrow \\widehat{b^{i y}}_{M L E}=\\frac{c(i, y)}{c(y)}\n",
        "\\end{align*}"
      ]
    },
    {
      "cell_type": "markdown",
      "metadata": {
        "id": "Evp1_DmHT4JP"
      },
      "source": [
        "### Problem 2: Matrix Derivatives\n",
        "\n",
        "**Multivariate Gaussian**\n",
        "\n",
        "Assume that our data is distributed according to a $\\underline d$ dimensional [multivariate Gaussian](https://en.wikipedia.org/wiki/Multivariate_normal_distribution#Likelihood_function) with $\\bar \\mu$ mean and $\\Sigma$ covariance matrix: $$(\\mathbf x_1, \\dots, \\mathbf x_n) \\sim \\mathcal N(\\bar \\mu, \\Sigma).$$ \n",
        "\n",
        "**Q2.1:** \n",
        "Using rules of [matrix derivatives](http://www2.imm.dtu.dk/pubdb/views/edoc_download.php/3274/pdf/imm3274.pdf) Equation [57, 59], derive $\\frac{\\partial \\mathcal L(\\theta)}{\\partial \\Sigma}$ in matrix form and set it to zero to find $\\Sigma_{ML}$ . \n"
      ]
    },
    {
      "cell_type": "markdown",
      "metadata": {
        "id": "v1hhI03PT4JU"
      },
      "source": [
        "**Solution Q2.1:**\n",
        "$$ P(\\mathbf x_1, \\dots, \\mathbf x_n |\\ \\mathbf \\mu, \\Sigma) = \\prod_{i=1}^n P(\\mathbf x_i|\\ \\mathbf \\mu, \\Sigma)$$\n",
        "\n",
        "$$ \\frac{1}{(2\\pi)^{\\frac{DN}{2}}|\\Sigma|^{\\frac{N}{2}}}\\exp(\\frac{-1}{2}\\sum_{i=1}^n(\\mathbf x_i-\\mu)^T\\Sigma^{-1}(\\mathbf x_i-\\mu))$$\n",
        "\n",
        "$$\\Rightarrow \\mathcal L(\\theta) = -\\frac{N}{2} \\log|\\Sigma|-\\frac{1}{2}\\sum_{i=1}^n(\\mathbf x_i-\\mu)^T\\Sigma^{-1}(\\mathbf x_i-\\mu) + C$$\n",
        "\n",
        "$$\\Rightarrow \\frac{\\partial \\mathcal L(\\theta)}{\\partial \\Sigma} =-\\frac{N}{2} \\Sigma^{-T} + \\frac{1}{2}\\sum_{i=1}^n\\Sigma^{-T}(\\mathbf x_i-\\mu)(\\mathbf x_i-\\mu)^T\\Sigma^{-T} $$\n",
        "\n",
        "Equating above with $0$,\n",
        "$$  \\Sigma_{ML} = \\frac{1}{n}\\sum_{i=1}^n(\\mathbf x_i-\\mu)(\\mathbf x_i-\\mu)^T$$"
      ]
    },
    {
      "cell_type": "markdown",
      "metadata": {
        "id": "2FWewuNzT4Jc"
      },
      "source": [
        "**Q2.4: Multi-target Linear Regression**\n",
        "- we have $X \\in \\mathbf R^{n \\times d}$ is a constant data matrix\n",
        "- $\\theta$ is a $d \\times m$-dimensional **weight matrix**\n",
        "- $\\varepsilon_{ij} \\sim \\mathcal N(0, \\sigma_\\epsilon)$ is a normal noise ($i \\in [0; n], j \\in [0;m]$)\n",
        "- and we observe a matrix $Y = X\\theta + \\varepsilon \\in \\mathbf R^{n \\times m}$\n",
        "\n",
        "$$\\varepsilon = Y - X\\theta \\sim \\mathcal N_n(0, \\sigma_\\epsilon I)$$\n",
        "\n",
        "$$\\mathcal L(\\theta) = \\log P(Y \\ | \\ X,\\theta) = \\log \\mathcal N_n(Y - X\\theta \\ | \\ 0, \\sigma_\\epsilon I)$$\n",
        "\n",
        "$$\\theta_{MLE} = \\arg \\max_{\\theta} \\mathcal L(\\theta) = \\arg \\min_{\\theta} \\text{loss}(\\theta) = \\arg \\min_{\\theta} \\big( ||Y-X\\theta||^2_F \\big)$$\n",
        "\n",
        "Assume $\\theta \\sim \\mathcal N(0, \\sigma_\\theta I)$, which essentially means that \"weight vector components should not be too far from zero\".\n",
        "Where $I$ stands for an identity matrix. **Using rules of [matrix derivatives](http://www2.imm.dtu.dk/pubdb/views/edoc_download.php/3274/pdf/imm3274.pdf)** Equation [137, 132], show for an MLE loss:  $\\text{loss}(\\theta) = ||Y-X\\theta||^2_F$ that:\n",
        "\n",
        "**Q2.2.1:** derive $\\frac{\\partial\\text{loss}(\\theta)}{\\partial \\theta} = \\frac{1}{\\sigma_\\epsilon}X^T(Y-X\\theta)$\n",
        "\n",
        "**Q2.2.2:** derive $\\theta_{MLE} = (X^T X)^{-1} X^T Y$\n",
        "\n",
        "**Hint:** In our case [see Matrix Cookbook, eq. 137], $g(U) = ||U||^2_F$ - squared Frobenius norm and $U(\\theta) = f(\\theta) = Y - \\theta X$ - linear mapping.\n",
        "\n",
        "**Note:** That is a multi-target problem, therfore $\\theta$ is a matrix, so you have to take the derivative wrt matrix."
      ]
    },
    {
      "cell_type": "markdown",
      "metadata": {
        "id": "yf6apygOT4Jh"
      },
      "source": [
        "**Solution 2.2.1:**\n",
        "\n",
        "\\begin{align*}\n",
        "\\mathcal L(\\theta) &= \\log\\left(\\frac{1}{\\sigma\\sqrt{2\\pi}}.exp\\left(-\\frac{1}{2}\\left(\\frac{Y-X\\theta}{\\sigma_\\epsilon I}\\right)^2\\right)\\right)\\\\\n",
        "&=\\log\\left(\\frac{1}{\\sigma\\sqrt{2\\pi}}\\right) -\\frac{1}{2}\\left(\\frac{Y-X\\theta}{\\sigma_\\epsilon I}\\right)^2\\\\\n",
        "\\frac{\\partial \\mathcal L(\\theta)}{\\partial \\theta} &= \\frac{1}{\\sigma_\\epsilon}X^T(Y-X\\theta)\n",
        "\\end{align*}\n",
        "\n",
        "**Solution 2.2.2:**\n",
        "$$\\theta_{MLE} = \\arg\\min_\\theta loss(\\theta)$$\n",
        "\n",
        "$$\\frac{\\partial\\text{loss}(\\theta)}{\\partial \\theta} =0 $$\n",
        "\n",
        "$$ \\Rightarrow -2X^T(Y-X\\theta)= 0 \\Rightarrow X^TY = X^TX\\theta $$\n",
        "\n",
        "$$\\Rightarrow \\theta_{MLE} = (X^T X)^{-1} X^TY$$"
      ]
    },
    {
      "cell_type": "markdown",
      "metadata": {
        "id": "61RyTcnxIv93"
      },
      "source": [
        "**Q2.2.3**\n",
        "To make use of prior information,  one might want to find [maximum a posteriori estimation](https://en.wikipedia.org/wiki/Maximum_a_posteriori_estimation) (MAP). In this problem, the MAP is defined as  $\\theta_{MAP} = \\arg\\max_\\theta L_{MAP}(\\theta) = \\arg\\max_\\theta P(\\theta | X, Y)$. The priori of $\\theta$ is $P(\\theta)$. Show $\\mathcal L_{MAP}(\\theta) can be defined as \\mathcal L_{MLE}(\\theta) + \\log P(\\theta)$.\n",
        "\n",
        "**Q2.2.4**\n",
        "Assume the prior $\\theta \\sim \\mathcal N(0, \\sigma_\\theta I)$, which essentially means that \"weight vector components should not be too far from zero\". \n",
        "Show MAP with gaussian prior is L2 regularization.\n",
        "\n",
        "**Q2.2.5**\n",
        "Now assume that $\\theta$ follows a [Laplace distribution](https://en.wikipedia.org/wiki/Laplace_distribution) i.e: $\\theta_i \\sim Laplace(0, b),  \\forall i $\n",
        "Show MAP with laplace prior is L1 regularization. "
      ]
    },
    {
      "cell_type": "markdown",
      "metadata": {
        "id": "VbW_YyV-Iv93"
      },
      "source": [
        "**Solution 2.2.3**\n",
        "$$\n",
        "\\begin{align}\n",
        "\\mathcal L_{MAP}(\\theta) &=  P(\\theta | X, Y) =  \\frac{P(Y|\\theta, X)P(\\theta)}{\\int_{\\Theta} P(Y|\\theta,X)P(\\theta) d \\theta} = \\big[ \\log P(Y|\\theta,X) + \\log P(\\theta) - \\log \\int_{\\Theta} P(Y|\\theta,X)P(\\theta) d \\theta \\big] \\\\ &=  \\big[ \\log P(Y|\\theta,X) + \\log P(\\theta) \\big] =\\mathcal L_{MLE}(\\theta) + \\log P(\\theta)\n",
        "\\end{align}\n",
        "$$\n"
      ]
    },
    {
      "cell_type": "markdown",
      "metadata": {
        "id": "BcXUJL-nIv96"
      },
      "source": [
        "**Solution 2.2.4**\n",
        "\\begin{align*}\n",
        "  \\log P(\\theta) = \\log\\left(\\frac{1}{2\\pi^{k/2}\\sigma_\\theta}\\exp\\left(-\\frac{\\theta^T\\theta}{2\\sigma_\\theta^2}\\right)\\right) = -\\frac{1}{2\\sigma_\\theta^2}\\theta^T\\theta + C = -\\frac{1}{2\\sigma_\\theta^2}||\\theta||^2_2 + C \n",
        "\\end{align*}\n"
      ]
    },
    {
      "cell_type": "markdown",
      "metadata": {
        "id": "xRfX3jGbIv-A"
      },
      "source": [
        "**Solution 2.2.5**\n",
        "\\begin{align*}\n",
        "  P(\\theta) &= \\prod_{i=1}^n P(\\theta_i) = \\prod_{i=1}^n \\frac{1}{2 b}\\exp\\left(-\\frac{|\\theta_i|}{b}\\right)\\\\\n",
        "  \\log P(\\theta) &= \\sum_{i=1}^n \\left(-\\log2b -\\frac1b|\\theta_i|\\right)\\\\\n",
        "  &= C - \\frac1b||\\theta||\\\\\n",
        "\\end{align*}  \n"
      ]
    },
    {
      "cell_type": "markdown",
      "metadata": {
        "id": "JN0bwdRkT4Ji"
      },
      "source": [
        "### Problem 3: Gradient for Maximum Likelihood Estimation \n",
        "\n",
        "Sometimes, we can't find MLEs in closed-form, in this case, we can use an iterative scheme to solve the resulting optimization problem $\\theta_{MLE} = \\arg\\max P(x \\ | \\ \\theta)$. First-order iterative schemes (e.g. Gradient Descent, Stochastic Gradient Descent, Nesterov Accelerated Gradient Descent) require gradient information at each visited point. Compute gradients for log-likelihood of the following model:\n",
        "\n",
        "- we have $X \\in \\mathbf R^{n \\times d}$ - constant data matrix, $\\mathbf x_i$ - vector corresponding to a single data point\n",
        "- $\\mu_1$ and $\\mu_2$ are $d$-dimensional (unknown) parameters\n",
        "\n",
        "We know that the data comes from a mixture of two $d$-dimensional guassians with mean $\\mu_1$ and $\\mu_2$.\n",
        "\n",
        "Which means that\n",
        "$$ P(\\mathbf x_i \\ | \\ \\mathbf \\mu_1 ,\\mathbf \\mu_2 , \\sigma) = \\frac{1}{2} \\frac{1}{(2\\pi \\sigma^2)^\\frac{d}{2}}\\Big(\\exp(-\\frac{||x_i -\\mu_1||_F^2}{2\\sigma^2}) + \\exp(-\\frac{||x_i -\\mu_2||_F^2}{2\\sigma^2})\\Big)$$\n",
        "\n",
        "where $\\sigma$ is a constant parameter.\n",
        "\n",
        "Denote log-likelihood as $\\mathcal L(\\mu_1,\\ \\mu_2)$ and log-likelihood for a single sample $i$ as $\\mathcal L_i = \\log P(\\mathbf x_i \\mid \\mathbf \\mu_1 ,\\mathbf \\mu_2 , \\sigma)$.\n",
        "\n",
        "**Q3.1**: Find $\\frac{\\partial \\mathcal L_i}{\\partial \\mu_1} $."
      ]
    },
    {
      "cell_type": "markdown",
      "metadata": {
        "id": "pQH_WXGcT4Jo"
      },
      "source": [
        "**Solution**:\n",
        "$$ \\mathcal L_i = \\log \\Big(\\exp(-\\frac{||x_i -\\mu_1||_F^2}{2\\sigma^2}) + \\exp(-\\frac{||x_i -\\mu_2||_F^2}{2\\sigma^2})\\Big)+C$$\n",
        "\n",
        "$$ \\frac{\\partial \\mathcal L_i}{\\partial \\mu_1} = \\frac{\\exp(-\\frac{||x_i -\\mu_1||_F^2}{2\\sigma^2})/ \\sigma^2}{\\exp(-\\frac{||x_i -\\mu_1||_F^2}{2\\sigma^2}) + \\exp(-\\frac{||x_i -\\mu_2||_F^2}{2\\sigma^2})}(\\mathbf x_i - \\mu_1) $$\n",
        "\n",
        "$$ \\mathcal L(\\mu_1,\\ \\mu_2) = \\log P(\\mathbf {x_1, \\dots, x_n} \\mid \\mu_1, \\mu_2, \\sigma) =\\log \\prod_{i=1}^n P(\\mathbf x_i \\mid \\mu_1, \\mu_2, \\sigma) = \\sum_{i=1}^n \\mathcal L_i $$"
      ]
    },
    {
      "cell_type": "markdown",
      "metadata": {
        "id": "ZEiOksrQT4Jr"
      },
      "source": [
        "**Q3.2**: Consider $\\sigma = 1$ and $d=4$ Check the result obtained in the previous section by completing the SGD code for minimising and plotting $-\\mathcal L(\\mu_1, \\mu_2)$. Try multiple learning rates (1e-1, 1e-3, 1e-6), explain the result.\n",
        "\n",
        "We marked places where you are expected to add/change your own code with **`## -- ! code required`** comment."
      ]
    },
    {
      "cell_type": "code",
      "metadata": {
        "id": "RDthISZbT4Ju",
        "outputId": "ad69c5f9-fe52-45e6-d950-cad7c9af348b",
        "colab": {
          "base_uri": "https://localhost:8080/",
          "height": 809
        }
      },
      "source": [
        "import numpy as np\n",
        "import matplotlib.pyplot as plt\n",
        "\n",
        "def generate_data(n, d, sigma):\n",
        "    mu1 = np.random.rand(d,1)\n",
        "    mu2 = np.random.rand(d,1)\n",
        "    z = np.random.binomial(1,0.5, size = [1,n])\n",
        "    X = z*np.random.normal(loc=mu1, scale=sigma, size=[d,n]) + \\\n",
        "    (1-z)*np.random.normal(loc=mu2, scale=sigma, size=[d,n])\n",
        "    return X\n",
        "\n",
        "def loss(X, mu1, mu2, sigma):\n",
        "    loss = np.log(np.exp(-np.sum((X - mu1)**2, axis = 0)/sigma**2/2) +\\\n",
        "                     np.exp(-np.  sum((X - mu2)**2, axis = 0)/sigma**2/2  ))\n",
        "    loss = -np.sum(loss)\n",
        "    return loss\n",
        "\n",
        "def loss_grad_i(X, mu1, mu2, i, sigma):\n",
        "    \n",
        "    denom = (np.exp(-np.sum((np.reshape(X[:,i],(-1,1)) - mu1)**2, axis = 0)/sigma**2/2) +\\\n",
        "                     np.exp(-np.sum((np.reshape(X[:,i],(-1,1)) - mu2)**2, axis = 0)/sigma**2/2))\n",
        "    \n",
        "    grad_loss_mu1_i=-np.exp(-np.sum((np.reshape(X[:,i],(-1,1)) - mu1)**2, axis = 0)/sigma**2/2)/sigma**2/denom* \\\n",
        "                   (np.reshape(X[:,i],(-1,1)) - mu1)\n",
        "                   \n",
        "    grad_loss_mu2_i=-np.exp(-np.sum((np.reshape(X[:,i],(-1,1)) - mu2)**2, axis = 0)/sigma**2/2)/sigma**2/denom* \\\n",
        "                   (np.reshape(X[:,i],(-1,1)) - mu2)\n",
        "                  \n",
        "    return grad_loss_mu1_i, grad_loss_mu2_i\n",
        "\n",
        "def sgd_plot(mu1_init, mu2_init, X, sigma, n_steps, learning_rates):\n",
        "    for learning_rate in learning_rates:\n",
        "        mu1 = mu1_init[:]\n",
        "        mu2 = mu2_init[:]\n",
        "        losses = []\n",
        "        for step_n in range(n_steps):\n",
        "            for i in range(X.shape[1]):\n",
        "                grad_loss_mu1_i, grad_loss_mu2_i = loss_grad_i(X, mu1, mu2, i, sigma)\n",
        "                ## -- ! code required\n",
        "                mu1 = mu1 - learning_rate*grad_loss_mu1_i\n",
        "                mu2 = mu2 - learning_rate*grad_loss_mu2_i\n",
        "                loss_i = loss(X, mu1, mu2, sigma)\n",
        "                losses.append(loss_i)\n",
        "        plt.plot(losses)\n",
        "        plt.title('SGD, learning rate = '+ str(learning_rate))\n",
        "        plt.show()\n",
        "\n",
        "    \n",
        "def main(n, d, sigma, n_steps):\n",
        "    np.random.seed(0)\n",
        "    X = generate_data(n, d, sigma)\n",
        "    mu1_init = np.random.rand(d,1)\n",
        "    mu2_init = np.random.rand(d,1)\n",
        "    sgd_plot(mu1_init, mu2_init, X, sigma, n_steps,learning_rates = [1e-1, 1e-3, 1e-6])\n",
        "    \n",
        "main(100,4,1,100)"
      ],
      "execution_count": null,
      "outputs": [
        {
          "output_type": "display_data",
          "data": {
            "image/png": "[encoded data removed]",
            "text/plain": [
              "<Figure size 432x288 with 1 Axes>"
            ]
          },
          "metadata": {
            "tags": [],
            "needs_background": "light"
          }
        },
        {
          "output_type": "display_data",
          "data": {
            "image/png": "[encoded data removed]",
            "text/plain": [
              "<Figure size 432x288 with 1 Axes>"
            ]
          },
          "metadata": {
            "tags": [],
            "needs_background": "light"
          }
        },
        {
          "output_type": "display_data",
          "data": {
            "image/png": "[encoded data removed]",
            "text/plain": [
              "<Figure size 432x288 with 1 Axes>"
            ]
          },
          "metadata": {
            "tags": [],
            "needs_background": "light"
          }
        }
      ]
    },
    {
      "cell_type": "markdown",
      "metadata": {
        "id": "0dhGEnaCIv-N"
      },
      "source": [
        "**Description**\n",
        "\n",
        "First plot: learning rate is too high -> First the loss decreases very fast and then it oscilates.\n",
        "\n",
        "Second plot: learning rate is just right -> the loss converges.\n",
        "\n",
        "Third plot: learning rate is too small -> the plot is just a small portion of the previous plot and thats why it looks so linear."
      ]
    },
    {
      "cell_type": "markdown",
      "metadata": {
        "id": "JlKxC0nHIv-O"
      },
      "source": [
        "\n",
        "**Q3.3**: Consider $\\sigma = 1$ and $d=4$ Check the result obtained in the previous section by completing the [Adam](https://en.wikipedia.org/wiki/Stochastic_gradient_descent#Adam) code for minimising and plotting $-\\mathcal L(\\mu_1, \\mu_2)$. Try multiple learning rates $(1e-1, 1e-3, 1e-6)$, explain the result and compare with sgd under the same random seed.\n",
        "\n",
        "We marked places where you are expected to add/change your own code with **`## -- ! code required`** comment.\n",
        "\n",
        "\n"
      ]
    },
    {
      "cell_type": "code",
      "metadata": {
        "id": "mlyxO9UVIv-P",
        "outputId": "c43b43ac-4bc0-40fb-d924-9c0d506e03d4"
      },
      "source": [
        "import math\n",
        "def Adam_plot(mu1_init, mu2_init, X, sigma, n_steps, learning_rates,m1_init,v1_init,m2_init,v2_init, b1 = 0.9, b2 = 0.999 ):\n",
        "    for learning_rate in learning_rates:\n",
        "        mu1 = mu1_init[:]\n",
        "        mu2 = mu2_init[:]\n",
        "        mt1 = m1_init[:]\n",
        "        vt1 = v1_init[:]\n",
        "        mt2 = m2_init[:]\n",
        "        vt2 = v2_init[:]\n",
        "        e = 0.00000001\n",
        "        losses = []\n",
        "        for step_n in range(n_steps):\n",
        "            for i in range(X.shape[1]):\n",
        "                t = step_n * n_steps + i\n",
        "                grad_loss_mu1_i, grad_loss_mu2_i = loss_grad_i(X, mu1, mu2, i, sigma)\n",
        "                ## -- ! code required\n",
        "                # update of mu1\n",
        "                mt1 = b1 * mt1 + (1 - b1) * grad_loss_mu1_i\n",
        "                vt1 = b2 * vt1 + (1 - b2) * (grad_loss_mu1_i ** 2)\n",
        "                mtt1 = mt1 / (1 - (b1 ** (t + 1)))\n",
        "                vtt1 = vt1 / (1 - (b2 ** (t + 1)))\n",
        "                vtt1_sqrt = np.sqrt(vtt1)\n",
        "                mu1 = mu1 - learning_rate * mtt1 / (vtt1_sqrt + e)\n",
        "                ## -- ! code required\n",
        "                # update of mu2\n",
        "                mt2 = b1 * mt2 + (1 - b1) * grad_loss_mu2_i\n",
        "                vt2 = b2 * vt2 + (1 - b2) * (grad_loss_mu2_i ** 2)\n",
        "                mtt2 = mt2 / (1 - (b1 ** (t + 1)))\n",
        "                vtt2 = vt2 / (1 - (b2 ** (t + 1)))\n",
        "                vtt2_sqrt = np.sqrt(vtt2)\n",
        "                mu2 = mu2 - learning_rate * mtt2 / (vtt2_sqrt + e)\n",
        "\n",
        "                loss_i = loss(X, mu1, mu2, sigma)\n",
        "                losses.append(loss_i)\n",
        "\n",
        "        plt.plot(losses)\n",
        "        plt.title('ADAM, learning rate = ' + str(learning_rate))\n",
        "        plt.show()\n",
        "        \n",
        "def main(n, d, sigma, n_steps):\n",
        "    np.random.seed(0)\n",
        "    X = generate_data(n, d, sigma)\n",
        "    mu1_init = np.random.rand(d,1)\n",
        "    mu2_init = np.random.rand(d,1)\n",
        "    m_init =  np.zeros((d,1))\n",
        "    v_init =  np.zeros((d,1))\n",
        "    m_init2 =  np.zeros((d,1))\n",
        "    v_init2 =  np.zeros((d,1))\n",
        "    Adam_plot(mu1_init, mu2_init, X, sigma, n_steps, [1e-1, 1e-3, 1e-6],m_init,v_init,m_init2,v_init2)\n",
        "    \n",
        "main(100,4,1,100)"
      ],
      "execution_count": null,
      "outputs": [
        {
          "output_type": "display_data",
          "data": {
            "image/png": "[encoded data removed]",
            "text/plain": [
              "<Figure size 432x288 with 1 Axes>"
            ]
          },
          "metadata": {
            "tags": [],
            "needs_background": "light"
          }
        },
        {
          "output_type": "display_data",
          "data": {
            "image/png": "[encoded data removed]",
            "text/plain": [
              "<Figure size 432x288 with 1 Axes>"
            ]
          },
          "metadata": {
            "tags": [],
            "needs_background": "light"
          }
        },
        {
          "output_type": "display_data",
          "data": {
            "image/png": "[encoded data removed]",
            "text/plain": [
              "<Figure size 432x288 with 1 Axes>"
            ]
          },
          "metadata": {
            "tags": [],
            "needs_background": "light"
          }
        }
      ]
    },
    {
      "cell_type": "markdown",
      "metadata": {
        "id": "CmFI-LteT4J9"
      },
      "source": [
        "**Description**\n",
        "\n",
        "First plot: Oscilates more than SGD. \n",
        "\n",
        "Second plot: learning rate is just right -> the loss converges. Faster than SGD.\n",
        "\n",
        "Third plot: learning rate is too small -> the plot is just a small portion of the previous plot and thats why it looks so linear. "
      ]
    },
    {
      "cell_type": "markdown",
      "metadata": {
        "id": "k-LGsmnET4KB"
      },
      "source": [
        "### **Q3.4 (bonus)**: There is another algorithm for fitting the mixture models named [EM](http://cs229.stanford.edu/notes/cs229-notes8.pdf) (Expectation maximization). Complete the EM code given bellow which maximizes the data log-likelihood for the model in Q2.2 and compare it's performance with that of SGD."
      ]
    },
    {
      "cell_type": "code",
      "metadata": {
        "id": "AzhQwxMwT4KD",
        "outputId": "f70d5c68-8600-4c5c-f31a-9ba85d64c524",
        "colab": {
          "base_uri": "https://localhost:8080/",
          "height": 545
        }
      },
      "source": [
        "def em_plot(mu1_init, mu2_init, X, sigma, n_steps):\n",
        "    mu1 = mu1_init[:]\n",
        "    mu2 = mu2_init[:]\n",
        "    losses = []\n",
        "    for iter in range(n_steps):\n",
        "        # E-step\n",
        "        denom = (np.exp(-np.sum((X - mu1)**2, axis = 0)/sigma**2/2) +\\\n",
        "                     np.exp(-np.sum((X - mu2)**2, axis = 0)/sigma**2/2))\n",
        "        \n",
        "        eta1 = np.exp(-np.sum((X - mu1)**2, axis = 0)/sigma**2/2) /denom\n",
        "        eta2 = np.exp(-np.sum((X - mu2)**2, axis = 0)/sigma**2/2) /denom\n",
        "         \n",
        "        # M-step\n",
        "        mu1 = (X@eta1/np.sum(eta1)).reshape(-1,1)\n",
        "        mu2 = (X@eta2/np.sum(eta2)).reshape(-1,1)\n",
        "        \n",
        "        loss_i = loss(X, mu1, mu2, sigma)\n",
        "        losses.append(loss_i)\n",
        "    plt.plot(losses)\n",
        "    plt.title('EM')\n",
        "    plt.show()\n",
        "\n",
        "def em_main(n, d, sigma, n_steps):\n",
        "    np.random.seed(0)\n",
        "    X = generate_data(n, d, sigma)\n",
        "    mu1_init = np.random.rand(d,1)\n",
        "    mu2_init = np.random.rand(d,1)\n",
        "\n",
        "    em_plot(mu1_init, mu2_init, X, sigma, n_steps)\n",
        "    sgd_plot(mu1_init, mu2_init, X, sigma, n_steps, learning_rates = [1e-3])\n",
        "    \n",
        "em_main(100,4,1,100)"
      ],
      "execution_count": null,
      "outputs": [
        {
          "output_type": "display_data",
          "data": {
            "image/png": "[encoded data removed]",
            "text/plain": [
              "<Figure size 432x288 with 1 Axes>"
            ]
          },
          "metadata": {
            "tags": [],
            "needs_background": "light"
          }
        },
        {
          "output_type": "display_data",
          "data": {
            "image/png": "[encoded data removed]",
            "text/plain": [
              "<Figure size 432x288 with 1 Axes>"
            ]
          },
          "metadata": {
            "tags": [],
            "needs_background": "light"
          }
        }
      ]
    },
    {
      "cell_type": "markdown",
      "metadata": {
        "id": "-rozDTqlT4KL"
      },
      "source": [
        "### Problem 4: Multiclass Logistic Regression\n",
        "\n",
        "In the problem, we want to solve K-class classification problem by logistic regression. Assume that we observe data generated via the following model:\n",
        "\n",
        "- We have the constant data matrix $X \\in \\mathbf R^{n \\times d}$. Each row $\\mathbf{x_i}$ is a d-dimensional data vector.\n",
        "- $\\boldsymbol{{\\Theta}}$ is a $d\\times K$ parameter matrix. Each column $\\boldsymbol{\\theta_k}$ is a d-dimensional parameter vector. \n",
        "- $\\boldsymbol\\varepsilon$ is $n\\times K$ noise matrix. Each element $\\varepsilon_{i,k}$ is iid sampled from a distribution whose pdf is in the form of $\\mathbf f(\\varepsilon_{i,k} ) = \\frac{1}{Z}e^{-\\varepsilon_{i,k}}e^{-e^{-\\varepsilon_{i,k}}}$, where $Z$ is a normlizing constant. \n",
        "- and we observe $(y_1,\\dots, y_n)$ where $ y_i = \\arg\\max_{k\\in\\{1,\\dots,K\\}} [\\mathbf{x_i} {\\boldsymbol\\theta_k} + \\varepsilon_{i,k}]$ - the index with largest score.\n",
        " \n",
        "\n",
        "Show that given model definition above, the following holds:\n",
        "\n",
        "**Q4.1**: The normalizing constant $Z=1$.\n",
        "\n"
      ]
    },
    {
      "cell_type": "markdown",
      "metadata": {
        "id": "LcavoS8aIv-e"
      },
      "source": [
        "**Solution 4.1:**  \n",
        "The integration of the pdf is equal to 1, we have:\n",
        "\\begin{align*}\n",
        " \\int_{-\\infty}^{\\infty} \\frac{1}{Z}e^{-\\varepsilon_{i,k}}e^{-e^{-\\varepsilon_{i,k}}} d\\varepsilon_{i,k} = \\frac{1}{Z}\\int_{-\\infty}^{\\infty}e^{-\\varepsilon_{i,k}}e^{-e^{-\\varepsilon_{i,k}}}d\\varepsilon_{i,k}  = 1\n",
        "\\end{align*}\n",
        "Let $s = -e^{-\\varepsilon_i}$, then:\n",
        "\\begin{align*}\n",
        " \\frac{1}{Z}\\int_{-\\infty}^{0}e^{s}ds  &= 1,\\\\\n",
        " \\frac{1}{Z}\\ e^{s}\\big|_{-\\infty}^0 &= 1,\\\\ \n",
        " Z&=1\n",
        "\\end{align*}"
      ]
    },
    {
      "cell_type": "markdown",
      "metadata": {
        "id": "IYBtztIIIv-g"
      },
      "source": [
        "**Q4.2**: For $\\forall k\\neq j$,and $k,j\\in\\{1,\\dots K\\}$, define a random variable $\\varepsilon_{i,k,j} = \\varepsilon_{i,k} - \\varepsilon_{i,j}$, then $\\varepsilon_{i,k,j}$ follows logistic regression. Namely, the cdf is $\\mathbf{F}(\\varepsilon_{i,k,j}) = \\frac{e^{\\varepsilon_{i,k,j}}}{1+e^{\\varepsilon_{i,k,j}}}$."
      ]
    },
    {
      "cell_type": "markdown",
      "metadata": {
        "id": "zxMoAhqvIv-g"
      },
      "source": [
        "**Solution 4.2**:\n",
        "Since $\\varepsilon_{i,k}$ and $\\varepsilon_{i,j}$ are independent, we can derive the cdf of $\\varepsilon^*_{i,k,j}$ as follows:\n",
        "\n",
        "\\begin{align*}\n",
        "F(\\varepsilon) &= P(\\varepsilon^*_{i,k,j}\\leq \\varepsilon)  = P(\\varepsilon_{i,k} - \\varepsilon_{i,j}\\leq \\varepsilon) = P(\\varepsilon_{i,k}\\leq \\varepsilon_{i,j} + \\varepsilon)\n",
        "\\end{align*}\n",
        "\n",
        "To make it easy to write, we let $k = \\varepsilon_{i,k}$  and $j = \\varepsilon_{i,j}$ and continual the derivation.\n",
        "\\begin{align*}\n",
        "F(\\varepsilon)  &=  P(k\\leq j + \\varepsilon)\\\\\n",
        "& = \\int_{-\\infty}^{\\infty} f_j(j) \\big[ \\int_{-infty}^{j + \\varepsilon} f_k(k)dk\\big] dj\\\\\n",
        "& = \\int_{-\\infty}^{\\infty} e^{-j} e^{-e^{-j}} e^{-e^{-(j+\\varepsilon)}} dj\n",
        "\\end{align*}\n",
        "Define $t = \\exp(-j)$ then we have $-\\exp(-j)dj = dt$. When $j\\rightarrow -\\infty, t \\rightarrow \\infty$. When $j \\rightarrow \\infty, t\\rightarrow 0$. Now we use the new term $t$,\n",
        "\\begin{align*}\n",
        "F(\\varepsilon) & = \\int_{\\infty}^{0} e^{-t} \\exp(-e^{-\\varepsilon}t) (-dt)\\\\\n",
        "& =  \\int^{\\infty}_{0} \\exp(t (-1-e^{-\\varepsilon}))dt\\\\\n",
        "& = \\frac{\\exp(t (-1-e^{-\\varepsilon}))}{-1-e^{-\\varepsilon}} \\big |_0^{\\infty}\\\\\n",
        "& = \\frac{1}{1+e^{-\\varepsilon}}\\\\\n",
        "& = \\frac{e^{\\varepsilon}}{1+e^{\\varepsilon}}.\n",
        "\\end{align*}\n"
      ]
    },
    {
      "cell_type": "markdown",
      "metadata": {
        "id": "rzvVAD1uIv-i"
      },
      "source": [
        "**Q4.3**:For $\\forall k\\in\\{1,\\dots,K\\}$, $P(y_i = k \\ | \\ \\boldsymbol{{\\Theta}}, \\mathbf x_i) = \\frac{e^{\\mathbf{x_i}{\\boldsymbol\\theta_{k}}}}{\\sum_{j\\in\\{1,\\dots,K\\}}e^{\\mathbf{x_i}{\\boldsymbol\\theta_{j}}}}$"
      ]
    },
    {
      "cell_type": "markdown",
      "metadata": {
        "id": "uWYSd5ulIv-j"
      },
      "source": [
        "**Solution 4.3:** \n",
        "\n",
        "Since $ y_i = \\arg\\max_{k\\in\\{1,\\dots,K\\}} [\\mathbf{x_i} {\\boldsymbol\\theta_k} + \\varepsilon_{i,k}]$, then we have the following:\n",
        "\n",
        "\\begin{align*}\n",
        "P(y_i = k \\ | \\ \\boldsymbol{{\\Theta}}, \\mathbf x_i)  &= P(\\mathbf{x_i} {\\boldsymbol\\theta_k} + \\varepsilon_{i,k} > \\mathbf{x_i} {\\boldsymbol\\theta_j} + \\varepsilon_{i,j}, \\forall j\\neq k, j\\in\\{1,\\dots,K\\}) ,\\\\\n",
        "&= P(\\varepsilon_{i,j}  <\\varepsilon_{i,k} +  \\mathbf{x_i} {\\boldsymbol\\theta_k}  - \\mathbf{x_i} {\\boldsymbol\\theta_j}  , \\forall j\\neq k, j\\in\\{1,\\dots,K\\}).\n",
        "\\end{align*}\n",
        "\n",
        "If $\\varepsilon_{i,k}$ is considered given, this expression is the cumulative distribution for each $\\varepsilon_{i,j}$ evaluated at $\\varepsilon_{i,k} +  \\mathbf{x_i} {\\boldsymbol\\theta_k}  - \\mathbf{x_i} {\\boldsymbol\\theta_j}$ Since $\\varepsilon$'s are independent, the cumulative distribution over all $j\\neq k$ is the product of the individual cumulative distribution. Then continue the deduction, we have:\n",
        "\\begin{align*}\n",
        "P(y_i = k \\ | \\ \\boldsymbol{{\\Theta}}, \\mathbf x_i)  &= \\int_{-\\infty}^{\\infty} \\big(\\prod_{j\\neq k } e^{-e^{-(\\varepsilon_{i,k} +  \\mathbf{x_i} {\\boldsymbol\\theta_k}  - \\mathbf{x_i} {\\boldsymbol\\theta_j})}}\\big) e^{-\\varepsilon_{i,k}} e^{-e^{-\\varepsilon_{i,k}}} d{\\varepsilon_{i,k}}\\\\\n",
        "&= \\int_{-\\infty}^{\\infty} \\big(\\prod_{j} e^{-e^{-(\\varepsilon_{i,k} +  \\mathbf{x_i} {\\boldsymbol\\theta_k}  - \\mathbf{x_i} {\\boldsymbol\\theta_j})}}\\big) e^{-\\varepsilon_{i,k}} d{\\varepsilon_{i,k}}\\ \\ \\ \\ \\ (since\\ e^{-e^{-\\varepsilon_{i,k}}} = e^{-e^{-(\\varepsilon_{i,k} +  \\mathbf{x_i} {\\boldsymbol\\theta_k}  - \\mathbf{x_i} {\\boldsymbol\\theta_j})}}, when\\ j=k)\\\\\n",
        "&= \\int_{-\\infty}^{\\infty} \\exp(-\\sum_j e^{-(\\varepsilon_{i,k} +  \\mathbf{x_i} {\\boldsymbol\\theta_k}  - \\mathbf{x_i} {\\boldsymbol\\theta_j})})e^{-\\varepsilon_{i,k}} d{\\varepsilon_{i,k}}\\\\\n",
        "&= \\int_{-\\infty}^{\\infty} \\exp(-e^{-\\varepsilon_{i,k}}\\sum_j e^{-( \\mathbf{x_i} {\\boldsymbol\\theta_k}  - \\mathbf{x_i} {\\boldsymbol\\theta_j})})e^{-\\varepsilon_{i,k}} d{\\varepsilon_{i,k}}\n",
        "\\end{align*}\n",
        "Define $t = \\exp(-\\varepsilon_{i,k})$ then we have $-\\exp(-\\varepsilon_{i,k})d\\varepsilon_{i,k} = dt$. When $\\varepsilon_{i,k}\\rightarrow -\\infty, t \\rightarrow \\infty$. When $\\varepsilon_{i,k} \\rightarrow \\infty, t\\rightarrow 0$. Now we use the new term $t$,\n",
        "\\begin{align*}\n",
        "P(y_i = k \\ | \\ \\boldsymbol{{\\Theta}}, \\mathbf x_i)  &= \\int_{\\infty}^0 exp(-t\\sum_j  e^{-( \\mathbf{x_i} {\\boldsymbol\\theta_k}  - \\mathbf{x_i} {\\boldsymbol\\theta_j})})(-dt)\\\\\n",
        "&= \\int^{\\infty}_0 exp(-t\\sum_j  e^{-( \\mathbf{x_i} {\\boldsymbol\\theta_k}  - \\mathbf{x_i} {\\boldsymbol\\theta_j})})dt\\\\\n",
        "&= \\frac{exp(-t\\sum_j  e^{-( \\mathbf{x_i} {\\boldsymbol\\theta_k}  - \\mathbf{x_i} {\\boldsymbol\\theta_j})})}{-\\sum_j  e^{-( \\mathbf{x_i} {\\boldsymbol\\theta_k}  - \\mathbf{x_i} {\\boldsymbol\\theta_j})}} \\Bigg|_0^\\infty\\\\\n",
        "&=\\frac{1}{\\sum_j  e^{-( \\mathbf{x_i} {\\boldsymbol\\theta_k}  - \\mathbf{x_i} {\\boldsymbol\\theta_j})}}\\\\\n",
        "&=\\frac{e^{ \\mathbf{x_i} {\\boldsymbol\\theta_k} }}{\\sum_j e^{\\mathbf{x_i} {\\boldsymbol\\theta_j}}}\n",
        "\\end{align*}\n",
        "\n",
        "\n"
      ]
    },
    {
      "cell_type": "markdown",
      "metadata": {
        "id": "rjt-DRK0T4Kc"
      },
      "source": [
        "From the results of **Q4.3**, we represent $P(y_i = k \\ | \\ \\boldsymbol{{\\Theta}}, \\mathbf x_i)$ as a [softmax function](https://en.wikipedia.org/wiki/Softmax_function) on dot product of data $X$ and parameter $\\Theta$\n",
        "\n",
        "The vector $\\mathbf 1$ denotes indicator function.\n",
        "\n",
        "**Q4.4**:$\\mathcal L_{MLE}(\\boldsymbol{{\\Theta}}) = \\sum_{i=1}^n \\sum_{k=1}^K \\mathbf 1 \\big[y_i =k\\big] \\log(\\frac{e^{\\mathbf{x_i}{\\boldsymbol\\theta_{k}}}}{\\sum_{j=1}^K e^{\\mathbf{x_i}{\\boldsymbol\\theta_{j}}}}) $"
      ]
    },
    {
      "cell_type": "markdown",
      "metadata": {
        "id": "opyLyvwUT4Kf"
      },
      "source": [
        "**Solution 4.4:**  \n",
        "\\begin{align*}\n",
        "  \\mathcal L_{MLE}(\\boldsymbol{{\\Theta}}) &= \\log P(\\mathbf y \\ | \\ X, \\Theta) = \\sum_{i=1}^n\\log P(y_i \\ | \\ \\Theta, \\mathbf x_i)\\\\\n",
        "  &=\\sum_{i=1}^n \\log(\\frac{e^{\\mathbf{x_i}{\\boldsymbol\\theta_{y_i}}}}{\\sum_{j\\in\\{1,\\dots,K\\}}e^{\\mathbf{x_i}{\\boldsymbol\\theta_{j}}}})\\\\\n",
        "  &=\\sum_{i=1}^n \\sum_{k=1}^K \\mathbf 1 \\big[y_i =k\\big] \\log(\\frac{e^{\\mathbf{x_i}{\\boldsymbol\\theta_{k}}}}{\\sum_{j=1}^K e^{\\mathbf{x_i}{\\boldsymbol\\theta_{j}}}})\n",
        "\\end{align*}\n"
      ]
    },
    {
      "cell_type": "markdown",
      "metadata": {
        "id": "ZUMuVy1tIv-m"
      },
      "source": [
        "We will see how we can compute $\\Theta_{MLE}$ using numerical method in Problem 5."
      ]
    },
    {
      "cell_type": "markdown",
      "metadata": {
        "id": "pQtsoMDsT4Kx"
      },
      "source": [
        "### Problem 5: Coding Logistic Regression\n",
        "In this problem, we will use multiclass logistic regression to classify 10 digits from MNIST dataset. The MNIST database of handwritten digits. Images are in the size of $28\\times 28$ pixels. Training set contains 60,000 images with labels. Testing set contains $20,000$ images with labels. \n",
        "\n",
        "First, we load data from torchvision package and visualize examples from the training set. Then we reshape the data and each row vector is a data sample.\n",
        "\n",
        "You will use **`train_data`**, **`train_targets`**, **`test_data`**, **`test_targets`**  in the later part of coding.\n",
        "\n"
      ]
    },
    {
      "cell_type": "code",
      "metadata": {
        "id": "y_2EhzzZT4Kz",
        "scrolled": false,
        "outputId": "20cf7b1c-a0e2-4c00-d7b5-2033ac61c70b",
        "colab": {
          "base_uri": "https://localhost:8080/",
          "height": 265
        }
      },
      "source": [
        "import torchvision.datasets as datasets\n",
        "import torchvision.transforms as transforms\n",
        "import numpy as np\n",
        "import copy\n",
        "import random\n",
        "import matplotlib.pyplot as plt\n",
        "\n",
        "transform = transforms.Compose([transforms.ToTensor(),\n",
        "                              transforms.Normalize((0.5,), (0.5,)),\n",
        "                              ])\n",
        "mnist_trainset = datasets.MNIST(root='./data', train=True, download=True, transform=None)\n",
        "mnist_testset = datasets.MNIST(root='./data', train=False, download=True, transform=None)\n",
        "\n",
        "train_data_raw = mnist_trainset.data.numpy()\n",
        "train_data = train_data_raw.reshape((len(train_data_raw),-1))\n",
        "train_targets = mnist_trainset.targets.numpy()\n",
        "test_data_raw = mnist_testset.data.numpy()\n",
        "test_data = test_data_raw.reshape((len(test_data_raw),-1))\n",
        "test_targets = mnist_testset.targets.numpy()\n",
        "\n",
        "fig, ax = plt.subplots(2,5)\n",
        "for i, ax in enumerate(ax.flatten()):\n",
        "    im_idx = np.argwhere(train_targets == i)[0]\n",
        "    plottable_image = np.reshape(train_data_raw[im_idx], (28, 28))\n",
        "    ax.imshow(plottable_image, cmap='gray_r')\n"
      ],
      "execution_count": null,
      "outputs": [
        {
          "output_type": "display_data",
          "data": {
            "image/png": "[encoded data removed]",
            "text/plain": [
              "<Figure size 432x288 with 10 Axes>"
            ]
          },
          "metadata": {
            "tags": [],
            "needs_background": "light"
          }
        }
      ]
    },
    {
      "cell_type": "markdown",
      "metadata": {
        "id": "tz_dW2GdT4K6"
      },
      "source": [
        "**Q5.1**: We want to use numerical methods to solve $\\Theta_{MLE}$. We need to compute the gradient of the loss with respect to model parameters. We define the softmax function from **Q4.3**, for the $i-th$ data sample that has class label k, $h_{\\theta}(x_i)_k = \\frac{e^{\\mathbf{x_i}{\\boldsymbol\\theta_{k}}}}{\\sum_{j\\in\\{1,\\dots,K\\}}e^{\\mathbf{x_i}{\\boldsymbol\\theta_{j}}}}$. Then we can write the $\\mathcal L_{MLE} = \\sum_{i=1}^n \\sum_{k=1}^K \\mathbf 1 \\big[y_i =k\\big] \\log(h_{\\theta}(x_i)_k)$. So we can write the loss as $L =-\\frac{1}{n} \\sum_{i=1}^n \\sum_{k=1}^K \\mathbf 1 \\big[y_i =k\\big] \\log(h_{\\theta}(x_i)_k)$. \n",
        "\n",
        "Show $\\frac{\\partial L}{\\partial \\theta_{sj}}=\\frac{1}{n} \\sum_{i=1}^{n}\\left(h_{\\theta}\\left(\\mathbf{x}_{i}\\right)_{j}-\\mathbf{1}\\left[y_{i}=j\\right]\\right) x_{i s}$, where $s\\in\\{1,\\dots,d\\}$,$j\\in\\{1,\\dots,K\\}$."
      ]
    },
    {
      "cell_type": "markdown",
      "metadata": {
        "id": "y5xd9t6WT4K7"
      },
      "source": [
        "**Solution:**  \n",
        "Gradient of Softmax:\n",
        "\\begin{align*}\n",
        "\\frac{\\partial h_{\\theta}\\left(\\mathbf{x}_{i}\\right)_{k}}{\\partial \\theta_{s j}}=\\left\\{\\begin{array}{ll}\n",
        "-h_{\\theta}\\left(\\mathbf{x}_{i}\\right)_{k} \\cdot h_{\\theta}\\left(\\mathbf{x}_{i}\\right)_{j} \\cdot x_{i s} & \\text { if } k \\neq j \\\\\n",
        "h_{\\theta}\\left(\\mathbf{x}_{i}\\right)_{k} \\cdot\\left(1-h_{\\theta}\\left(\\mathbf{x}_{i}\\right)_{j}\\right) \\cdot x_{i s} & \\text { if } k=j\n",
        "\\end{array}\\right.\n",
        "\\end{align*}\n",
        "Then optimizing the multiclass log loss:\n",
        "\\begin{align*}\n",
        "L\\left(h_{\\theta}\\right)&=-\\frac{1}{n} \\sum_{i=1}^{n} \\sum_{k=1}^{K} \\mathbf{1}\\left[y_{i}=k\\right] \\log h_{\\theta}\\left(\\mathbf{x}_{i}\\right)_{k} \\\\\n",
        "\\frac{\\partial L\\left(h_{\\theta}\\right)}{\\partial \\theta_{s j}}&=-\\frac{1}{n} \\sum_{i=1}^{n} \\sum_{k=1}^{K} \\mathbf{1}\\left[y_{i}=k\\right] \\frac{1}{h_{\\theta}\\left(\\mathbf{x}_{i}\\right)_{k}} \\frac{\\partial h_{\\theta}\\left(\\mathbf{x}_{i}\\right)_{k}}{\\partial \\theta_{s j}} \\\\\n",
        "&=-\\frac{1}{n} \\sum_{i=1}^{n} \\sum_{k=1}^{K} \\mathbf{1}\\left[y_{i}=k \\wedge k \\neq j\\right] \\cdot-h_{\\theta}\\left(\\mathbf{x}_{i}\\right)_{j} \\cdot x_{i s} \\\\\n",
        "&=\\frac{1}{n} \\sum_{i=1}^{n}\\left(h_{\\theta}\\left(\\mathbf{x}_{i}\\right)_{j}-\\mathbf{1}\\left[y_{i}=j\\right]\\right) x_{i s}\n",
        "\\end{align*}\n"
      ]
    },
    {
      "cell_type": "markdown",
      "metadata": {
        "id": "BLz8nd7WIv-v"
      },
      "source": [
        "Next, we want to implement the multiple class logistic regression by SGD. If we only apply one data sample $(\\mathbf{x}_i, y_i)$ each iteration, the results from **Q5.1** become $\\frac{\\partial L\\left(h_{\\theta}\\right)}{\\partial \\theta_{s j}} = \\left(h_{\\theta}\\left(\\mathbf{x}_{i}\\right)_{j}-\\mathbf{1}\\left[y_{i}=j\\right]\\right) x_{i s}$. Then the$\\frac{\\partial L\\left(h_{\\theta}\\right)}{\\partial \\theta_{j}} = \\left(h_{\\theta}\\left(\\mathbf{x}_{i}\\right)_{j}-\\mathbf{1}\\left[y_{i}=j\\right]\\right)\\cdot x_{i}$ will become a dot product . This will make our implementation easier."
      ]
    },
    {
      "cell_type": "markdown",
      "metadata": {
        "id": "UzYVB9UXIv-w"
      },
      "source": [
        "**Q5.2**: Write (by filling in the missing code below) Logistic Regression Class below. We already have the softmax function implemented. In the train part, apply a iterative numerical method. Report the training and testing accuracy."
      ]
    },
    {
      "cell_type": "code",
      "metadata": {
        "id": "MwZm3mocIv-x"
      },
      "source": [
        "class LogisticRegression(object):\n",
        "    \"\"\" Multinomial Linear Regression\n",
        "\n",
        "    @attrs:\n",
        "        weights: a parameter of the model\n",
        "        alpha: the step size in gradient descent\n",
        "        n_features: the number of features\n",
        "        n_classes: the number of classes\n",
        "    \"\"\"\n",
        "    def __init__(self, n_features, n_classes):\n",
        "        \"\"\" Initializes a LogisticRegression classifer. \"\"\"\n",
        "        self.alpha = 0.01  # tune this parameter\n",
        "        self.n_features = n_features\n",
        "        self.n_classes = n_classes\n",
        "        self.weights = np.zeros((n_features, n_classes))\n",
        "\n",
        "    def train(self, data, labels):\n",
        "        \"\"\" Trains the model, using stochastic gradient descent\n",
        "\n",
        "        @params:\n",
        "            data: an numpy array of data matrix\n",
        "            labels: an numpy array of labels \n",
        "        @return:\n",
        "            None\n",
        "        \"\"\"\n",
        "        ## -- ! code required\n",
        "        grads_l = [0.0] * self.n_classes\n",
        "        self.old_weights = np.ones((self.n_features,self.n_classes))\n",
        "        cnt = 0\n",
        "        while np.linalg.norm(self.old_weights - self.weights) > 0.001 and cnt < 16:\n",
        "            cnt += 1.0\n",
        "            idx = np.random.permutation(len(labels))\n",
        "            data_shuffle = data[idx]\n",
        "            labels_shuffle = labels[idx]\n",
        "            for exmp in range(len(labels_shuffle)):\n",
        "                self.old_weights = copy.deepcopy(self.weights)\n",
        "                l = np.dot(data_shuffle[exmp],self.old_weights)\n",
        "                p = self._softmax(l)\n",
        "                for i in range(self.n_classes):\n",
        "                    if i == labels_shuffle[exmp]:\n",
        "                        grads_l[i] = p[i] - 1\n",
        "                    else:\n",
        "                        grads_l[i] = p[i]\n",
        "                grads_x = data_shuffle[exmp].reshape(data_shuffle.shape[1],1)*np.array(grads_l)\n",
        "                self.weights = self.old_weights - self.alpha * grads_x\n",
        "\n",
        "    def predict(self, data):\n",
        "        \"\"\" Compute predictions based on the learned parameters\n",
        "\n",
        "        @params:\n",
        "             data: an numpy array of data matrix\n",
        "        @return:\n",
        "            a numpy array of predictions\n",
        "        \"\"\"\n",
        "        ## -- ! code required\n",
        "        pred = np.matmul(data,self.weights)\n",
        "        lab = np.argmax(pred,axis=1)\n",
        "        return lab\n",
        "    def accuracy(self, data, labels):\n",
        "        \"\"\" Outputs the accuracy of the trained model on a given dataset (data).\n",
        "\n",
        "        @params:\n",
        "            data: a dataset to test the accuracy of the model.\n",
        "            a namedtuple with two fields: inputs and labels\n",
        "        @return:\n",
        "            a float number indicating accuracy (between 0 and 1)\n",
        "        \"\"\"\n",
        "        ## -- ! code required\n",
        "        count = 0.0\n",
        "        pre = self.predict(data)\n",
        "        for i in range(len(labels)):\n",
        "            if pre[i] == labels[i]:\n",
        "                count += 1.0\n",
        "        acc = count/len(labels)\n",
        "        return acc\n",
        "    def _softmax(self, x):\n",
        "        \"\"\" apply softmax to an array\n",
        "\n",
        "        @params:\n",
        "            x: the original array\n",
        "        @return:\n",
        "            an array with softmax applied elementwise.\n",
        "        \"\"\"\n",
        "        e = np.exp(x - np.max(x))\n",
        "        return e / np.sum(e)"
      ],
      "execution_count": null,
      "outputs": []
    },
    {
      "cell_type": "code",
      "metadata": {
        "id": "uOgWe22xIv-2",
        "outputId": "56997fba-9245-4c77-ce3b-41619205ed9c"
      },
      "source": [
        "feature_dim = train_data.shape[1]\n",
        "cls_num = 10\n",
        "model = LogisticRegression(feature_dim,cls_num)\n",
        "model.train(train_data, train_targets)\n",
        "train_acc = model.accuracy(train_data, train_targets)\n",
        "test_acc = model.accuracy(test_data,test_targets)\n",
        "print('train acc', train_acc, 'test acc', test_acc)"
      ],
      "execution_count": null,
      "outputs": [
        {
          "output_type": "stream",
          "text": [
            "train acc 0.89255 test acc 0.8963\n"
          ],
          "name": "stdout"
        }
      ]
    },
    {
      "cell_type": "markdown",
      "metadata": {
        "id": "l3qNepnuT4K8"
      },
      "source": [
        "**Q5.2.1**: Why did we implement $softmax(\\mathbf{x})_i = \\frac{e^{x_{i}}}{\\sum_{j=1}^{K} e^{x_{j}}}$ as shown above? What is numerical under- and overflow and how people deal with it?"
      ]
    },
    {
      "cell_type": "markdown",
      "metadata": {
        "id": "BxuCO1W-T4K-"
      },
      "source": [
        "**Solution 5.2.1:** \n",
        "The term arithmetic overflow (underflow) occurs when the result of a calculation is of larger (smaller) absolute value than the computer can represent.\n",
        "\n",
        "We code to avoid overflow."
      ]
    },
    {
      "cell_type": "code",
      "metadata": {
        "id": "89ehEIwAx16Q"
      },
      "source": [
        ""
      ],
      "execution_count": null,
      "outputs": []
    }
  ]
}